{
 "cells": [
  {
   "cell_type": "code",
   "execution_count": 2,
   "metadata": {},
   "outputs": [],
   "source": [
    "import pandas as pd\n",
    "import numpy as np\n",
    "import plotly.express as px\n",
    "import plotly.graph_objects as go"
   ]
  },
  {
   "cell_type": "code",
   "execution_count": 1,
   "metadata": {},
   "outputs": [],
   "source": [
    "def read_meta_data(path):\n",
    "    df_meta = pd.read_csv(path, nrows=7, index_col=0, header =None).transpose()\n",
    "    meta_dict = {}\n",
    "    gridBoundaries = [float(num) for num in df_meta['Data Bounding Box:'].values[0].split(',')]\n",
    "    df = pd.DataFrame()\n",
    "    meta_dict['x0'] = gridBoundaries[0]\n",
    "    meta_dict['y0'] = gridBoundaries[1]\n",
    "    meta_dict['x1'] = gridBoundaries[2]\n",
    "    meta_dict['y1'] = gridBoundaries[3]\n",
    "    meta_dict['Start_date'] = df_meta['User Start Date:'].values\n",
    "    meta_dict['End_date'] = df_meta['User End Date:'].values\n",
    "    meta_dict['Title'] = df_meta['Title:'].values\n",
    "    meta_dict['Url'] = df_meta['URL to Reproduce Results:'].values\n",
    "    meta_dict['fvalue'] = df_meta['Fill Value (mean_OMNO2d_003_ColumnAmountNO2TropCloudScreened):'].values\n",
    "    \n",
    "    \n",
    "    return meta_dict"
   ]
  },
  {
   "cell_type": "markdown",
   "metadata": {},
   "source": [
    "## NO2 Data"
   ]
  },
  {
   "cell_type": "code",
   "execution_count": 49,
   "metadata": {},
   "outputs": [],
   "source": [
    "\n",
    "\n",
    "def gen_html(path2020, path2019, title, savefile):\n",
    "    meta_dict=read_meta_data\n",
    "    df2020 = pd.read_csv(path2020, skiprows=9, index_col=0, header=None, names=['NO2(1/cm2)'],na_values=meta_dict['fvalue'])\n",
    "    df2019 = pd.read_csv(path2019, skiprows=9, index_col=0, header=None, names=['NO2(1/cm2)'],na_values=meta_dict['fvalue'])\n",
    "    #Remove negative values\n",
    "    df2020 = df2020[df2020['NO2(1/cm2)'] > 0]\n",
    "    df2019 = df2019[df2019['NO2(1/cm2)'] > 0]\n",
    "\n",
    "    rolling_avg = df2020.rolling(7).mean()\n",
    "\n",
    "    fig = go.Figure()\n",
    "    fig.add_trace(go.Scatter(y = df2020['NO2(1/cm2)'],\n",
    "                            x= df2020.index, name='2020' )) \n",
    "\n",
    "    fig.add_trace(go.Scatter(y = df2019['NO2(1/cm2)'],\n",
    "                            x= df2020.index, name ='2019', line =dict(dash='dash'))) \n",
    "\n",
    "    fig.update_layout(\n",
    "        title=title,\n",
    "        xaxis_title = 'Date',\n",
    "        yaxis_title = 'NO2 (1/cm^2)',\n",
    "        hovermode=\"x\")\n",
    "\n",
    "    fig.write_html(savefile, include_plotlyjs= 'directory')"
   ]
  },
  {
   "cell_type": "code",
   "execution_count": 52,
   "metadata": {},
   "outputs": [],
   "source": [
    "pathRome2020 = '../data/omi/OMNO2d_003_20200131-20200524_12E_40N_15E_42N.csv'\n",
    "pathRome2019 = '../data/omi/OMNO2d_003_20190131-20190524_12E_40N_15E_42N.csv'\n",
    "\n",
    "pathMilan2020 = '../data/omi/OMNO2d_003_20200131-20200524_8E_44N_12E_46N.csv'\n",
    "pathMilan2019 = '../data/omi/OMNO2d_003_20190131-20190524_8E_44N_12E_46N.csv'\n",
    "\n",
    "pathMadrid2020 = '../data/omi/OMNO2d_003_20200131-20200524_5W_39N_2W_41N.csv'\n",
    "\n",
    "pathMadrid2019 = '../data/omi/OMNO2d_003_20190131-20190524_5W_39N_2W_41N.csv'\n",
    "\n",
    "\n",
    "gen_html(path2020=pathRome2020, path2019=pathRome2019, title='OMI Tropospheric NO2 Rome', \n",
    "         savefile='../html/NO2_Rome.html' )\n",
    "\n",
    "gen_html(pathMadrid2020, pathMadrid2019, title='OMI Tropospheric NO2 Madrid',\n",
    "        savefile='../html/NO2_madrid.html')\n",
    "\n",
    "gen_html(pathMilan2020, pathMilan2019, title='OMI Tropospheric NO2 Milian', \n",
    "        savefile='../html/NO2_milan.html')"
   ]
  },
  {
   "cell_type": "markdown",
   "metadata": {},
   "source": [
    "## Flight data"
   ]
  },
  {
   "cell_type": "code",
   "execution_count": 87,
   "metadata": {},
   "outputs": [],
   "source": [
    "df_flights = pd.read_csv('../data/flightradar/number-of-commercial-fli.csv'\n",
    "                        , index_col = 0)\n",
    "df_flights.index = pd.to_datetime(df_flights.index) "
   ]
  },
  {
   "cell_type": "code",
   "execution_count": 103,
   "metadata": {},
   "outputs": [],
   "source": [
    "fig = go.Figure()\n",
    "fig.add_trace(go.Scatter(x=df_flights.index, y=df_flights['Number of flights'],\n",
    "             name = 'Daily flights'))\n",
    "\n",
    "fig.add_trace(go.Scatter(x=df_flights.index, y=df_flights['7-day moving average'],\n",
    "                        name='7-day moving avarage', line=dict(color ='slateblue'\n",
    "                                                              ), opacity=0.7))\n",
    "fig.update_layout(title='Number of commerical flights',\n",
    "                 xaxis_title='date')\n",
    "fig.write_html('../html/flight_data.html', include_plotlyjs= 'directory')"
   ]
  }
 ],
 "metadata": {
  "kernelspec": {
   "display_name": "Python 3",
   "language": "python",
   "name": "python3"
  },
  "language_info": {
   "codemirror_mode": {
    "name": "ipython",
    "version": 3
   },
   "file_extension": ".py",
   "mimetype": "text/x-python",
   "name": "python",
   "nbconvert_exporter": "python",
   "pygments_lexer": "ipython3",
   "version": "3.8.2"
  }
 },
 "nbformat": 4,
 "nbformat_minor": 4
}
